{
 "cells": [
  {
   "cell_type": "markdown",
   "metadata": {},
   "source": [
    "### Understanding Neural Networks\n",
    "David Kahn <br>\n",
    "12/16/2016 <br>\n",
    "<br>\n",
    "<br>\n",
    "Code written and provided by Andrew Gladden\n",
    "<br>\n",
    "<br>\n",
    "\n",
    "\n",
    "Neural networks can be used to complete tasks that humans think are simple, but computers would not be able to brute force. In the case of my understanding of them, I am limited. A Neural network consists of input neurons, a middle layer formed from more neurons, and output neurons. The input neurons take in the data and pass it through synapses to each subsequent neuron. From there more synapses connect either another middle layer to the prior one or the output to the middle layer. Through the use of matrices and a small amount of complicated math, we are able to create a neural network that 'learns' from a dataset and is able to predict an outcome. \n",
    "\n",
    "In order to create a Neural Network, we will place the data into matrices. This data is then passed into a neural Network class that uses a method called forward to cary the inputs through the network. Within this, two methods, sigmoid and sigmoid prime, are used to weight the synapse connections. These weights act as a way for the computer to understand how 'important' each synapse connection is as well as to apply a calculation to each piece of data by applying the sigmoid activation function. The synapse connections are connections that form between each layer of the network and its prior layer in order to allow the data to be understood through multiple methods. The weights, carried by the forward function, are then passed through a cost function to determine which weight (applied to each synapse) is the most accurate. To do this, we take the derivative of the data in order to get a slope value, this slope is compared to others to ensure that it is the smallest, and thus the most accurate. Through the cost function, we are able to minimize the inaccuracy of the weights applied. From here, a calculation gradient is used to stop the program from looping and reaching a local low. This is useful to ensure that the program is optimized.\n",
    "\n",
    "After these steps, the program uses the Getparams and Setparams methods to, as they describe, set the parameters and get the parameters for each optimization of the data. As a further optimization, we then use another gradient to check our previous calculations, just to ensure that we have the most accurate answer. \n",
    "\n",
    "Finally, we use a trainer to train the network with a dataset so we can then start predicting. The trainer simply puts a dataset into the network with known answers so the network can determine how accurate it is and therefore become the most optimized it can for that set of data. From here the trained network can predict answers for information that we pass into it."
   ]
  },
  {
   "cell_type": "code",
   "execution_count": 1,
   "metadata": {
    "collapsed": false
   },
   "outputs": [
    {
     "name": "stdout",
     "output_type": "stream",
     "text": [
      "[[  3.   5.]\n",
      " [  5.   1.]\n",
      " [ 10.   2.]]\n",
      "[[ 75.]\n",
      " [ 82.]\n",
      " [ 93.]]\n",
      "[[ 0.3  1. ]\n",
      " [ 0.5  0.2]\n",
      " [ 1.   0.4]]\n",
      "[[ 0.75]\n",
      " [ 0.82]\n",
      " [ 0.93]]\n",
      "\n"
     ]
    }
   ],
   "source": [
    "import sklearn\n",
    "import numpy as np\n",
    "from numpy.linalg import norm#Linear algorithm vector normalization\n",
    "from scipy import optimize#OPTIMIZE DAT SHET\n",
    "import matplotlib.pyplot as plot\n",
    "%matplotlib inline\n",
    "\n",
    "#Supervised regression method, sup = inp & out, reg = predic of num\n",
    "X = np.array(([3, 5], [5, 1], [10, 2]), dtype=float);#[hrs sleep, hrs study]\n",
    "y = np.array(([75], [82], [93]), dtype=float);#[score]\n",
    "\n",
    "print(X);\n",
    "print(y);\n",
    "\n",
    "#Need to account for unit diff. Inp is in hrs, out is in grade num\n",
    "#Will scale data\n",
    "#Data is positive, so will divide by max val of each var\n",
    "X = X/np.amax(X, axis = 0);#Compare to the highest number available\n",
    "y = y/100;#We know that highest score possible is 100\n",
    "#This network must follow the format of two inputs one output\n",
    "print(X);\n",
    "print(y);\n",
    "#In between the inp and out is a hidden network, consisting of neurons\n",
    "\"\"\"Things that connect neurons are synapses,\n",
    "    synapses take input values, and multiply them by a weight before\n",
    "    passing them on. Neurons also take multiple inputs, from\n",
    "    all their synapses, and apply an activation function.\"\"\"\n",
    "print();"
   ]
  },
  {
   "cell_type": "code",
   "execution_count": 2,
   "metadata": {
    "collapsed": false
   },
   "outputs": [
    {
     "name": "stdout",
     "output_type": "stream",
     "text": [
      "[[ 0.69663014]\n",
      " [ 0.71568632]\n",
      " [ 0.75033005]]\n",
      "Really bad prediction [[ 0.75]\n",
      " [ 0.82]\n",
      " [ 0.93]]\n",
      "\n",
      "1: [[-0.00503776  0.00183196 -0.00611232]\n",
      " [-0.00398105  0.0011008  -0.00383997]]\n",
      "2: [[-0.05365565]\n",
      " [-0.04383536]\n",
      " [-0.04425713]]\n"
     ]
    }
   ],
   "source": [
    "#building NN as a class\n",
    "class Neural_Network(object):#Make class\n",
    "    def __init__(self):#Init method\n",
    "        #use self.\"variable\" to make it class accessible\n",
    "        #Define HyperParameters\n",
    "        self.inputLayerDepth = 2;#Two inputs\n",
    "        self.outputLayerDepth = 1;#One output\n",
    "        self.hiddenLayerDepth = 3;#Three neurons to calculate with\n",
    "        \n",
    "        #Weights (Parameters)\n",
    "        self.W1 = np.random.randn(self.inputLayerDepth, \\\n",
    "                                self.hiddenLayerDepth);\n",
    "        self.W2 = np.random.randn(self.hiddenLayerDepth, \\\n",
    "                                 self.outputLayerDepth);\n",
    "    \n",
    "    def forward(self, X):#Use matrices to input multiple vals at once\n",
    "        #Propogate inputs through network\n",
    "        #Matrix multiplication to speed things up\n",
    "        #Input matrix = X, weight matrix = w(1), out matrix = Z(2)\n",
    "        #Z(2) is 3 by 3, one row per example, one col per hidden unit\n",
    "        #Func: Z(2) = Xw(1)\n",
    "        #a(2) = f(z(2))\n",
    "        self.z2 = np.dot(X, self.W1);\n",
    "        self.a2 = self.sigmoid(self.z2);\n",
    "        self.z3 = np.dot(self.a2, self.W2);\n",
    "        yHat = self.sigmoid(self.z3);\n",
    "        return yHat\n",
    "    \n",
    "    def sigmoid(self, z):\n",
    "        #Apply sigmoid activation function\n",
    "        return 1/(1+np.exp(-z));\n",
    "    \n",
    "    def sigmoidPrime(self, z):#Derivation of the Sigmoid Function\n",
    "        return np.exp(-z)/((1+np.exp(-z))**2);\n",
    "    \n",
    "    def cFunction(self, X, y):\n",
    "        #Compute cost for given X,y, use weights already stored in class.\n",
    "        self.yHat = self.forward(X)\n",
    "        J = 0.5*sum((y-self.yHat)**2)\n",
    "        return J\n",
    "    \n",
    "    def cFPrime(self, X, y):#Get derivs with context of W1 and W2\n",
    "        self.yHat = self.forward(X);\n",
    "        \n",
    "        #Delta of z3 data calc\n",
    "        delta3 = np.multiply(-(y-self.yHat), self.sigmoidPrime(self.z3));\n",
    "        dW2 = np.dot(self.a2.T, delta3);\n",
    "        \n",
    "        #Delta of z2 data calc, among everything else I think\n",
    "        delta2 = np.dot(delta3, self.W2.T)*self.sigmoidPrime(self.z2);\n",
    "        dW1 = np.dot(X.T, delta2);\n",
    "        \n",
    "        return dW1, dW2;\n",
    "    \n",
    "    def getParams(self):\n",
    "        #GET W1 and W2 rolled into a vector:\n",
    "        params = np.concatenate((self.W1.ravel(), self.W2.ravel()));\n",
    "        return params;\n",
    "    \n",
    "    def setParams(self, params):\n",
    "        #SET W1 and W2 using a single parameter vector:\n",
    "        W1_start = 0;\n",
    "        W1_end = self.hiddenLayerDepth*self.inputLayerDepth;\n",
    "        self.W1 = np.reshape(params[W1_start:W1_end], \\\n",
    "                            (self.inputLayerDepth, self.hiddenLayerDepth));\n",
    "        W2_end = W1_end+self.hiddenLayerDepth*self.outputLayerDepth;\n",
    "        self.W2 = np.reshape(params[W1_end:W2_end], \\\n",
    "                            (self.hiddenLayerDepth, self.outputLayerDepth));\n",
    "        \n",
    "    def calcGradients(self, X, y):\n",
    "        dW1, dW2 = self.cFPrime(X, y);\n",
    "        return np.concatenate((dW1.ravel(), dW2.ravel()));\n",
    "    \n",
    "    \n",
    "\n",
    "NN = Neural_Network();\n",
    "yHat = NN.forward(X);\n",
    "cost1 = NN.cFunction(X, y);\n",
    "dW1, dW2 = NN.cFPrime(X, y);\n",
    "print(yHat);\n",
    "print(\"Really bad prediction\",y);\n",
    "print();\n",
    "print(\"1:\", dW1);\n",
    "print(\"2:\", dW2);"
   ]
  },
  {
   "cell_type": "code",
   "execution_count": 3,
   "metadata": {
    "collapsed": false
   },
   "outputs": [
    {
     "data": {
      "image/png": "[encoded data removed]",
      "text/plain": [
       "<matplotlib.figure.Figure at 0x2283cc04a90>"
      ]
     },
     "metadata": {},
     "output_type": "display_data"
    }
   ],
   "source": [
    "tValues = np.arange(-5, 5, 0.01);\n",
    "plot.plot(tValues, NN.sigmoid(tValues), linewidth = 2);\n",
    "plot.plot(tValues, NN.sigmoidPrime(tValues), linewidth = 2);\n",
    "plot.grid(1);\n",
    "plot.legend(['sigmoid', 'sigmoidPrime']);"
   ]
  },
  {
   "cell_type": "code",
   "execution_count": 4,
   "metadata": {
    "collapsed": true
   },
   "outputs": [],
   "source": [
    "scalar = 3;\n",
    "NN.W1 = NN.W1+scalar+dW1;\n",
    "NN.W2 = NN.W2+scalar+dW2;\n",
    "cost2 = NN.cFunction(X, y);"
   ]
  },
  {
   "cell_type": "code",
   "execution_count": 5,
   "metadata": {
    "collapsed": false
   },
   "outputs": [
    {
     "name": "stdout",
     "output_type": "stream",
     "text": [
      "[ 0.02300549] [ 0.04987358]\n"
     ]
    }
   ],
   "source": [
    "print(cost1, cost2);"
   ]
  },
  {
   "cell_type": "code",
   "execution_count": 6,
   "metadata": {
    "collapsed": true
   },
   "outputs": [],
   "source": [
    "dW1, dW2 = NN.cFPrime(X, y);\n",
    "NN.W1 = NN.W1-scalar+dW1;\n",
    "NN.W2 = NN.W2-scalar+dW2;\n",
    "cost3 = NN.cFunction(X, y);"
   ]
  },
  {
   "cell_type": "code",
   "execution_count": 7,
   "metadata": {
    "collapsed": false
   },
   "outputs": [
    {
     "name": "stdout",
     "output_type": "stream",
     "text": [
      "[ 0.04987358] [ 0.03065339]\n"
     ]
    }
   ],
   "source": [
    "print(cost2, cost3);"
   ]
  },
  {
   "cell_type": "code",
   "execution_count": 8,
   "metadata": {
    "collapsed": false
   },
   "outputs": [],
   "source": [
    "x = np.arange(-5, 5, 0.01);"
   ]
  },
  {
   "cell_type": "code",
   "execution_count": 9,
   "metadata": {
    "collapsed": false
   },
   "outputs": [
    {
     "data": {
      "image/png": "[encoded data removed]",
      "text/plain": [
       "<matplotlib.figure.Figure at 0x2283cc04358>"
      ]
     },
     "metadata": {},
     "output_type": "display_data"
    }
   ],
   "source": [
    "plot.plot(x, x**2, 'b');\n",
    "plot.grid(1);\n",
    "plot.scatter(1.5, 1.5**2);"
   ]
  },
  {
   "cell_type": "code",
   "execution_count": 10,
   "metadata": {
    "collapsed": true
   },
   "outputs": [],
   "source": [
    "def f(x):\n",
    "    return x**2;"
   ]
  },
  {
   "cell_type": "code",
   "execution_count": 11,
   "metadata": {
    "collapsed": true
   },
   "outputs": [],
   "source": [
    "epsilon = 1e-4;\n",
    "x = 1.5;"
   ]
  },
  {
   "cell_type": "code",
   "execution_count": 12,
   "metadata": {
    "collapsed": true
   },
   "outputs": [],
   "source": [
    "numericGradient = (f(x+epsilon)-f(x-epsilon))/(2*epsilon);"
   ]
  },
  {
   "cell_type": "code",
   "execution_count": 13,
   "metadata": {
    "collapsed": false
   },
   "outputs": [
    {
     "data": {
      "text/plain": [
       "(2.9999999999996696, 3.0)"
      ]
     },
     "execution_count": 13,
     "metadata": {},
     "output_type": "execute_result"
    }
   ],
   "source": [
    "numericGradient, 2*x"
   ]
  },
  {
   "cell_type": "code",
   "execution_count": 14,
   "metadata": {
    "collapsed": true
   },
   "outputs": [],
   "source": [
    "def cNGradient(N, X, y):\n",
    "    paramsInitial = N.getParams();\n",
    "    numgrad = np.zeros(paramsInitial.shape);\n",
    "    perturb = np.zeros(paramsInitial.shape);\n",
    "    e = 1e-4;\n",
    "    \n",
    "    for p in range(len(paramsInitial)):\n",
    "        #Set perturbation vector\n",
    "        perturb[p] = e;\n",
    "        N.setParams(paramsInitial+perturb);\n",
    "        loss2 = N.cFunction(X, y);\n",
    "        \n",
    "        N.setParams(paramsInitial-perturb);\n",
    "        loss1 = N.cFunction(X, y);\n",
    "        \n",
    "        #Compute slope between the values:\n",
    "        numgrad[p] = (loss2-loss1)/(2*e);\n",
    "        \n",
    "        #Return the value changed back to zero:\n",
    "        perturb[p] = 0;\n",
    "        \n",
    "    #Return parameters to original values:\n",
    "    N.setParams(paramsInitial);\n",
    "    return numgrad;\n",
    "        "
   ]
  },
  {
   "cell_type": "code",
   "execution_count": 15,
   "metadata": {
    "collapsed": false
   },
   "outputs": [
    {
     "name": "stdout",
     "output_type": "stream",
     "text": [
      "[ 2.21438062  0.53990493  0.80676857 -0.0299187   0.66912832  0.28381442\n",
      "  0.82255427 -0.21912511  0.558624  ]\n"
     ]
    }
   ],
   "source": [
    "print(NN.getParams());"
   ]
  },
  {
   "cell_type": "code",
   "execution_count": 16,
   "metadata": {
    "collapsed": true
   },
   "outputs": [],
   "source": [
    "numgrad = cNGradient(NN, X, y);"
   ]
  },
  {
   "cell_type": "code",
   "execution_count": 17,
   "metadata": {
    "collapsed": true
   },
   "outputs": [],
   "source": [
    "grad = NN.calcGradients(X, y);"
   ]
  },
  {
   "cell_type": "code",
   "execution_count": 18,
   "metadata": {
    "collapsed": false
   },
   "outputs": [
    {
     "data": {
      "text/plain": [
       "array([-0.0058558 ,  0.00277326, -0.00689662, -0.00499418,  0.00176868,\n",
       "       -0.00461562, -0.06606529, -0.0544987 , -0.05468526])"
      ]
     },
     "execution_count": 18,
     "metadata": {},
     "output_type": "execute_result"
    }
   ],
   "source": [
    "numgrad"
   ]
  },
  {
   "cell_type": "code",
   "execution_count": 19,
   "metadata": {
    "collapsed": false
   },
   "outputs": [
    {
     "data": {
      "text/plain": [
       "array([-0.0058558 ,  0.00277326, -0.00689662, -0.00499418,  0.00176868,\n",
       "       -0.00461562, -0.06606529, -0.0544987 , -0.05468526])"
      ]
     },
     "execution_count": 19,
     "metadata": {},
     "output_type": "execute_result"
    }
   ],
   "source": [
    "grad"
   ]
  },
  {
   "cell_type": "code",
   "execution_count": 20,
   "metadata": {
    "collapsed": false
   },
   "outputs": [
    {
     "data": {
      "text/plain": [
       "7.0471772339025082e-10"
      ]
     },
     "execution_count": 20,
     "metadata": {},
     "output_type": "execute_result"
    }
   ],
   "source": [
    "norm(grad-numgrad)/norm(grad+numgrad)"
   ]
  },
  {
   "cell_type": "code",
   "execution_count": 21,
   "metadata": {
    "collapsed": false
   },
   "outputs": [],
   "source": [
    "class trainer(object):\n",
    "    def __init__(self, N):\n",
    "        #Scope out to see NN\n",
    "        self.N = N;\n",
    "        \n",
    "    def cFWrapper(self, params, X, y):#Wrap values\n",
    "        self.N.setParams(params);\n",
    "        cost = self.N.cFunction(X, y);\n",
    "        grad = self.N.calcGradients(X, y);\n",
    "        return cost, grad;\n",
    "    \n",
    "    def cbF(self, params):\n",
    "        self.N.setParams(params);\n",
    "        self.J.append(self.N.cFunction(self.X, self.y));\n",
    "        \n",
    "    \n",
    "    def train(self, X, y):\n",
    "        \n",
    "        #Making internal variable for callback func\n",
    "        self.X = X;\n",
    "        self.y = y;\n",
    "        #Now store the costs:\n",
    "        self.J = [];\n",
    "        \n",
    "        params0 = self.N.getParams();\n",
    "        \n",
    "        options = {'maxiter': 200, 'disp': True};\n",
    "        _res = optimize.minimize(self.cFWrapper, params0, \\\n",
    "                                 jac = True, method='BFGS', \\\n",
    "                                 args = (X, y), options = options, \\\n",
    "                                 callback = self.cbF);\n",
    "        #Replace random parameters with trained parameters\n",
    "        self.N.setParams(_res.x);\n",
    "        self.optResults = _res;"
   ]
  },
  {
   "cell_type": "code",
   "execution_count": 22,
   "metadata": {
    "collapsed": true
   },
   "outputs": [],
   "source": [
    "T = trainer(NN);"
   ]
  },
  {
   "cell_type": "code",
   "execution_count": 23,
   "metadata": {
    "collapsed": false
   },
   "outputs": [
    {
     "name": "stdout",
     "output_type": "stream",
     "text": [
      "Optimization terminated successfully.\n",
      "         Current function value: 0.000000\n",
      "         Iterations: 57\n",
      "         Function evaluations: 67\n",
      "         Gradient evaluations: 67\n"
     ]
    }
   ],
   "source": [
    "T.train(X, y)"
   ]
  },
  {
   "cell_type": "code",
   "execution_count": 24,
   "metadata": {
    "collapsed": false
   },
   "outputs": [
    {
     "data": {
      "image/png": "[encoded data removed]",
      "text/plain": [
       "<matplotlib.figure.Figure at 0x2283cc042b0>"
      ]
     },
     "metadata": {},
     "output_type": "display_data"
    }
   ],
   "source": [
    "plot.plot(T.J);\n",
    "plot.grid(1);\n",
    "plot.ylabel('Cost');\n",
    "plot.xlabel('Iterations');"
   ]
  },
  {
   "cell_type": "code",
   "execution_count": 25,
   "metadata": {
    "collapsed": false
   },
   "outputs": [
    {
     "data": {
      "text/plain": [
       "(array([[  4.64649193e-07,   1.16784949e-06,  -3.57746587e-09],\n",
       "        [  1.83115581e-06,  -1.83625769e-06,  -5.22697323e-09]]),\n",
       " array([[ -3.11496035e-06],\n",
       "        [  6.07249339e-07],\n",
       "        [ -2.25160006e-06]]))"
      ]
     },
     "execution_count": 25,
     "metadata": {},
     "output_type": "execute_result"
    }
   ],
   "source": [
    "NN.cFPrime(X, y)"
   ]
  },
  {
   "cell_type": "code",
   "execution_count": 26,
   "metadata": {
    "collapsed": false
   },
   "outputs": [
    {
     "data": {
      "text/plain": [
       "array([[ 0.75001595],\n",
       "       [ 0.82001623],\n",
       "       [ 0.92988367]])"
      ]
     },
     "execution_count": 26,
     "metadata": {},
     "output_type": "execute_result"
    }
   ],
   "source": [
    "NN.forward(X)"
   ]
  },
  {
   "cell_type": "code",
   "execution_count": 27,
   "metadata": {
    "collapsed": false
   },
   "outputs": [
    {
     "data": {
      "text/plain": [
       "array([[ 0.75],\n",
       "       [ 0.82],\n",
       "       [ 0.93]])"
      ]
     },
     "execution_count": 27,
     "metadata": {},
     "output_type": "execute_result"
    }
   ],
   "source": [
    "y"
   ]
  },
  {
   "cell_type": "code",
   "execution_count": 28,
   "metadata": {
    "collapsed": false
   },
   "outputs": [],
   "source": [
    "#Test network for combos\n",
    "hoursSleep = np.linspace(0, 10, 100);\n",
    "hoursStudy = np.linspace(0, 5, 100);\n",
    "#print(hoursSleep, \"\\n\\n\\n\", hoursStudy);\n",
    "#print();\n",
    "#Normalizing data:\n",
    "hoursSleepNorm = hoursSleep/10.;\n",
    "hoursStudyNorm = hoursStudy/5.\n",
    "\n",
    "#Flatten Data:\n",
    "a, b = np.meshgrid(hoursSleepNorm, hoursStudyNorm);\n",
    "\n",
    "#Put it in the Matrix\n",
    "allInputs = np.zeros((a.size, 2));\n",
    "allInputs[:, 0] = a.ravel();\n",
    "allInputs[:, 1] = b.ravel();"
   ]
  },
  {
   "cell_type": "code",
   "execution_count": 29,
   "metadata": {
    "collapsed": false
   },
   "outputs": [
    {
     "name": "stdout",
     "output_type": "stream",
     "text": [
      "[[ 0.30067003]\n",
      " [ 0.31198929]\n",
      " [ 0.32353357]\n",
      " ..., \n",
      " [ 0.93523946]\n",
      " [ 0.93582315]\n",
      " [ 0.93638828]]\n"
     ]
    }
   ],
   "source": [
    "allOut = NN.forward(allInputs);\n",
    "print(allOut);"
   ]
  },
  {
   "cell_type": "code",
   "execution_count": 30,
   "metadata": {
    "collapsed": false
   },
   "outputs": [
    {
     "data": {
      "image/png": "[encoded data removed]",
      "text/plain": [
       "<matplotlib.figure.Figure at 0x2283f6416d8>"
      ]
     },
     "metadata": {},
     "output_type": "display_data"
    }
   ],
   "source": [
    "import matplotlib\n",
    "import matplotlib.cm as cm\n",
    "import matplotlib.mlab as mlab\n",
    "yy = np.dot(hoursStudy.reshape(100, 1), np.ones((1, 100)));\n",
    "xx = np.dot(hoursSleep.reshape(100, 1), np.ones((1, 100))).T;\n",
    "\n",
    "CS = plot.contour(xx, yy, 100*allOut.reshape(100, 100));\n",
    "plot.clabel(CS, inline = 1, fontsize = 10);\n",
    "plot.xlabel(\"Hours Slept\");\n",
    "plot.ylabel(\"Hours Studied\");"
   ]
  },
  {
   "cell_type": "code",
   "execution_count": 31,
   "metadata": {
    "collapsed": false
   },
   "outputs": [
    {
     "data": {
      "text/plain": [
       "<matplotlib.text.Text at 0x2284004a3c8>"
      ]
     },
     "execution_count": 31,
     "metadata": {},
     "output_type": "execute_result"
    },
    {
     "data": {
      "image/png": "[encoded data removed]",
      "text/plain": [
       "<matplotlib.figure.Figure at 0x2283fbfba90>"
      ]
     },
     "metadata": {},
     "output_type": "display_data"
    }
   ],
   "source": [
    "#3D plot whoaaaaaa~\n",
    "\n",
    "from mpl_toolkits.mplot3d import Axes3D\n",
    "fig = plot.figure(1)\n",
    "ax = fig.gca(projection = '3d')\n",
    "surg = ax.plot_surface(xx, yy, 200*allOut.reshape(100, 100), \\\n",
    "                       cmap = cm.jet)\n",
    "\n",
    "ax.set_xlabel('Hours Slept')\n",
    "ax.set_ylabel(\"Hours Studied\")\n",
    "ax.set_zlabel(\"Score\")"
   ]
  },
  {
   "cell_type": "code",
   "execution_count": null,
   "metadata": {
    "collapsed": true
   },
   "outputs": [],
   "source": []
  }
 ],
 "metadata": {
  "kernelspec": {
   "display_name": "Python [Root]",
   "language": "python",
   "name": "Python [Root]"
  },
  "language_info": {
   "codemirror_mode": {
    "name": "ipython",
    "version": 3
   },
   "file_extension": ".py",
   "mimetype": "text/x-python",
   "name": "python",
   "nbconvert_exporter": "python",
   "pygments_lexer": "ipython3",
   "version": "3.5.2"
  }
 },
 "nbformat": 4,
 "nbformat_minor": 0
}
